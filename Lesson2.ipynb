{
  "nbformat": 4,
  "nbformat_minor": 0,
  "metadata": {
    "colab": {
      "name": "Lesson2.ipynb",
      "provenance": [],
      "collapsed_sections": [],
      "toc_visible": true,
      "authorship_tag": "ABX9TyPxNHJxtNkl0C9KJ1TFJo/r",
      "include_colab_link": true
    },
    "kernelspec": {
      "name": "python3",
      "display_name": "Python 3"
    }
  },
  "cells": [
    {
      "cell_type": "markdown",
      "metadata": {
        "id": "view-in-github",
        "colab_type": "text"
      },
      "source": [
        "<a href=\"https://colab.research.google.com/github/mrazall/SESC-NCFU/blob/main/Lesson2.ipynb\" target=\"_parent\"><img src=\"https://colab.research.google.com/assets/colab-badge.svg\" alt=\"Open In Colab\"/></a>"
      ]
    },
    {
      "cell_type": "markdown",
      "metadata": {
        "id": "4JyKGMzBiaga"
      },
      "source": [
        "# Занятие 2\n",
        "\n",
        "\n"
      ]
    },
    {
      "cell_type": "markdown",
      "metadata": {
        "id": "p5tXEE7WpvFV"
      },
      "source": [
        "## Поиск площади по формуле Герона\n",
        "\n",
        "Площадь треугольника можно найти по формуле Герона:\n",
        "\n",
        "$ S = \\sqrt {p (p-a) (p-b) (p-c)} $,\n",
        "\n",
        "где $ p = \\frac {a + b + c} {2}$"
      ]
    },
    {
      "cell_type": "markdown",
      "metadata": {
        "id": "0F_aoZrEiphJ"
      },
      "source": [
        "### Первый способ\n"
      ]
    },
    {
      "cell_type": "code",
      "metadata": {
        "id": "HhPIpitoiURG",
        "outputId": "79e756f4-ee0a-476b-e094-1c268411a316",
        "colab": {
          "base_uri": "https://localhost:8080/",
          "height": 84
        }
      },
      "source": [
        "import math    #3 способа решения задачи \"поиск площади по формуле Герона\"\n",
        "\n",
        "\n",
        "a = float(input())\n",
        "b = float(input())\n",
        "c = float(input())\n",
        "p = (a + b +c)/2 \n",
        "s = math.sqrt(p*(p-a)*(p-b)*(p-c))\n",
        "print(s)\n"
      ],
      "execution_count": null,
      "outputs": [
        {
          "output_type": "stream",
          "text": [
            "3\n",
            "4\n",
            "5\n",
            "6.0\n"
          ],
          "name": "stdout"
        }
      ]
    },
    {
      "cell_type": "markdown",
      "metadata": {
        "id": "sAQu4qYFix6N"
      },
      "source": [
        "### Второй способ"
      ]
    },
    {
      "cell_type": "code",
      "metadata": {
        "id": "7Y5Kr6sRimw9"
      },
      "source": [
        "\n",
        "\n",
        "a = float(input())\n",
        "b = float(input())\n",
        "c = float(input())\n",
        "p = (a + b +c)/2 \n",
        "s =(p*(p-a)*(p-b)*(p-c))**1/2\n",
        "print(s)\n",
        "\n",
        "\n"
      ],
      "execution_count": null,
      "outputs": []
    },
    {
      "cell_type": "markdown",
      "metadata": {
        "id": "KOfP7MFCi3cv"
      },
      "source": [
        "### Третий способ"
      ]
    },
    {
      "cell_type": "code",
      "metadata": {
        "id": "DFUb9dK1i4pN"
      },
      "source": [
        "a = float(input())\n",
        "b = float(input())\n",
        "c = float(input())\n",
        "p = (a + b +c)/2 \n",
        "print((p*(p-a)*(p-b)*(p-c))**1/2)\n",
        "\n",
        "\n"
      ],
      "execution_count": null,
      "outputs": []
    },
    {
      "cell_type": "markdown",
      "metadata": {
        "id": "_xTrsEWijk_Y"
      },
      "source": [
        "###Решение задачи, в случае если мы не тупые и проверям данные, что были введены"
      ]
    },
    {
      "cell_type": "code",
      "metadata": {
        "id": "AA1RGs-vjp6o"
      },
      "source": [
        "a = float(input())\n",
        "b = float(input())\n",
        "c = float(input())\n",
        "if (a+b > c) and (a+c > b) and (c+b > a):\n",
        "    p = (a + b +c)/2 \n",
        "    s =(p*(p-a)*(p-b)*(p-c))**1/2\n",
        "    print(s)\n",
        "else:\n",
        "    print('ARE YOU JOKING MAN? TRY ANOTHER NUMBERS!!!')\n"
      ],
      "execution_count": null,
      "outputs": []
    },
    {
      "cell_type": "markdown",
      "metadata": {
        "id": "hh3AcCp6jC5c"
      },
      "source": [
        "## Поиск синуса и косинуса"
      ]
    },
    {
      "cell_type": "markdown",
      "metadata": {
        "id": "gi3zo0NCjL3m"
      },
      "source": [
        "### Синус"
      ]
    },
    {
      "cell_type": "code",
      "metadata": {
        "id": "Jm1D9oJ3jCcW",
        "outputId": "18ed2ecb-0d62-44c6-9de9-4ebdaa782541",
        "colab": {
          "base_uri": "https://localhost:8080/",
          "height": 50
        }
      },
      "source": [
        "a = float(input())\n",
        "b = ((a * math.pi)/180) \n",
        "\n",
        "sin = math.sin(b)\n",
        "\n",
        "print(sin)\n",
        "\n"
      ],
      "execution_count": null,
      "outputs": [
        {
          "output_type": "stream",
          "text": [
            "30\n",
            "0.49999999999999994\n"
          ],
          "name": "stdout"
        }
      ]
    },
    {
      "cell_type": "code",
      "metadata": {
        "id": "r0Sk44t3m4Ex",
        "outputId": "abecebf6-fb43-4c83-c40f-c757baaaf6fa",
        "colab": {
          "base_uri": "https://localhost:8080/",
          "height": 34
        }
      },
      "source": [
        "import sympy as sm\n",
        "\n",
        "s = sm.simplify(2 * sm.sin(sm.pi/6) * sm.cos(30))\n",
        "\n"
      ],
      "execution_count": null,
      "outputs": [
        {
          "output_type": "execute_result",
          "data": {
            "text/plain": [
              "(1, cos(30))"
            ]
          },
          "metadata": {
            "tags": []
          },
          "execution_count": 23
        }
      ]
    },
    {
      "cell_type": "code",
      "metadata": {
        "id": "09trH690oXQd",
        "outputId": "a5e12806-352d-44df-ec5c-fdb0d2ccd497",
        "colab": {
          "base_uri": "https://localhost:8080/",
          "height": 34
        }
      },
      "source": [
        "sm.sqrt(2)"
      ],
      "execution_count": null,
      "outputs": [
        {
          "output_type": "execute_result",
          "data": {
            "text/plain": [
              "sqrt(2)"
            ]
          },
          "metadata": {
            "tags": []
          },
          "execution_count": 25
        }
      ]
    },
    {
      "cell_type": "markdown",
      "metadata": {
        "id": "j3CYZSSZjcVp"
      },
      "source": [
        "### Косинус"
      ]
    },
    {
      "cell_type": "code",
      "metadata": {
        "id": "gLQL91wUjfIn",
        "outputId": "137ea4c6-d4b4-4f2f-9f43-258fa740257a",
        "colab": {
          "base_uri": "https://localhost:8080/",
          "height": 50
        }
      },
      "source": [
        "a = float(input())\n",
        "b = ((a * math.pi)/180) \n",
        "cos = math.cos(b)\n",
        "\n",
        "print(cos)"
      ],
      "execution_count": null,
      "outputs": [
        {
          "output_type": "stream",
          "text": [
            "60\n",
            "0.5000000000000001\n"
          ],
          "name": "stdout"
        }
      ]
    },
    {
      "cell_type": "markdown",
      "metadata": {
        "id": "Yxi-aNrdlBKW"
      },
      "source": [
        "##Преобразование строки в числа"
      ]
    },
    {
      "cell_type": "code",
      "metadata": {
        "id": "7wO9GEVclHcT",
        "outputId": "4c4c57b7-c223-4a74-e28c-2630582e1e54",
        "colab": {
          "base_uri": "https://localhost:8080/",
          "height": 50
        }
      },
      "source": [
        "a, b, c = [int(x) for x in input('Введите стороны треугольника: ').split()][0:3]\n",
        "print(a)"
      ],
      "execution_count": null,
      "outputs": [
        {
          "output_type": "stream",
          "text": [
            "Введите стороны треугольника: 3 4 5\n",
            "3\n"
          ],
          "name": "stdout"
        }
      ]
    }
  ]
}